{
 "cells": [
  {
   "cell_type": "markdown",
   "metadata": {},
   "source": [
    "# Speeding Case Study\n",
    "\n",
    "We will be working with the amis dataset.\n",
    "\n",
    "In a study into the effect that warning signs have on speeding patterns, Cambridgeshire County Council considered 14 pairs of locations. The locations were paired to account for factors such as traffic volume and type of road. \n",
    "\n",
    "One site in each pair had a sign erected warning of the dangers of speeding and asking drivers to slow down.No action was taken at the second site. \n",
    "\n",
    "Three sets of measurements were taken at each site. These speed measurements were taken before the erection of the sign, shortly after the erection of the sign, and again after the sign had been in place for some time.\n",
    "\n",
    "> Using Python and by calculating descriptive statistics, did average speed changes in one section of road after a sign was erected?"
   ]
  },
  {
   "cell_type": "markdown",
   "metadata": {},
   "source": [
    "## The Data\n",
    "\n",
    "The amis dataset has 8437 rows and 4 columns. The data used here show measured car speeds with 3 other labels.\n",
    "\n",
    "1. **pair** - A numeric column giving the pair number at which the reading was taken. Pairs were numbered from 1 to 14.\n",
    "2. **warning** - A numeric column indicating whether the location of the reading was chosen to have a warning sign erected. \n",
    "    1. A value of 1 indicates presence of a sign\n",
    "    2. A value of 2 indicates that no sign was erected.\n",
    "3. **period** - A numeric column indicating the time that the reading was taken. \n",
    "    1. 1 indicates a reading taken before the sign was erected\n",
    "    2. 2 indicates a reading taken shortly after erection of the sign\n",
    "    3. 3 indicates a reading taken after the sign had been in place for some time.\n",
    "\n",
    "We want to study how the **average speed changes** in one section of road (pair 7, say) after the sign was erected, so we need to:\n",
    "\n",
    "- Read the data\n",
    "- Loop over the rows of data\n",
    "- Select data only from the group of interest\n",
    "- Compute the answer"
   ]
  },
  {
   "cell_type": "markdown",
   "metadata": {},
   "source": [
    "## Get the Data\n",
    "\n",
    "* Read in a dataset from the web\n",
    "https://vincentarelbundock.github.io/Rdatasets/datasets.html\n",
    "Using the amis dataset, #5 on that page\n",
    "\n",
    "* See the documentation for the dataset at\n",
    "https://vincentarelbundock.github.io/Rdatasets/doc/boot/amis.html"
   ]
  },
  {
   "cell_type": "markdown",
   "metadata": {},
   "source": [
    "## DataFrames\n",
    "We're introducing DataFrame, another data structure to organize data (early on, you can think about it as a table like in Excel) and functions for reading datafiles easily.\n",
    "\n",
    "Aside: This will also work with data stored on your computer see pd.read_sql(), pd.read_excel() and pd.read_csv()\n",
    "for more data input options"
   ]
  },
  {
   "cell_type": "code",
   "execution_count": null,
   "metadata": {},
   "outputs": [],
   "source": [
    "import pandas as pd\n",
    "df = pd.read_csv(\"https://vincentarelbundock.github.io/Rdatasets/csv/boot/amis.csv\",\n",
    "                 usecols=range(1,5)) # column 1, 2, 3, 4\n",
    "                # remember that the indexing begins from 0\n",
    "                # column 1 is unnecessary indexing in this csv"
   ]
  },
  {
   "cell_type": "code",
   "execution_count": null,
   "metadata": {
    "scrolled": true
   },
   "outputs": [],
   "source": [
    "df.head() # preview the first 5 rows data"
   ]
  },
  {
   "cell_type": "code",
   "execution_count": null,
   "metadata": {
    "scrolled": false
   },
   "outputs": [],
   "source": [
    "for row in df.head().values:  # loop over the each row's values; test loop on the first 5 rows to see data\n",
    "    print(row)"
   ]
  },
  {
   "cell_type": "markdown",
   "metadata": {},
   "source": [
    "Let's narrow in our analysis on only pair 7"
   ]
  },
  {
   "cell_type": "code",
   "execution_count": null,
   "metadata": {
    "scrolled": true
   },
   "outputs": [],
   "source": [
    "for row in df.head().values:  # each row is a list, and I want to filter road segment 'pair' = 7\n",
    "    print(row[3]) # 'pair' is the last column, so I need to slice the last element from each list"
   ]
  },
  {
   "cell_type": "code",
   "execution_count": null,
   "metadata": {},
   "outputs": [],
   "source": [
    "my_list = [] # empty list to save just the data I want\n",
    "for row in df.values:\n",
    "    if row[3] == 7: # use an if statement to select just pair 7, note the if is nested inside the loop\n",
    "        my_list.append(row[0]) # append the speed (index 0) to another list to store the data, note this is indented even more\n",
    "\n",
    "len(my_list)  # see the length of my list i.e. number of elements in my list data structure"
   ]
  },
  {
   "cell_type": "code",
   "execution_count": null,
   "metadata": {},
   "outputs": [],
   "source": [
    "before = [] # empty list to \"save\"/append the data I want\n",
    "for row in df.values:\n",
    "    if row[3] == 7:  # filter to road segment 7\n",
    "        if row[2] == 1: # filter just the roads with a warning sign erected\n",
    "            before.append(row[0]) # note this is indented even more\n",
    "\n",
    "len(before)  # see how much data I got"
   ]
  },
  {
   "cell_type": "code",
   "execution_count": null,
   "metadata": {},
   "outputs": [],
   "source": [
    "before = [] # empty list to save just the data I want\n",
    "after = [] # empty list to save just the data I want\n",
    "\n",
    "for row in df.values:\n",
    "    if row[3] == 7:  # filter to road segment 7\n",
    "        if row[2] == 1: # filter just the roads with a warning sign erected\n",
    "            if row[1] == 1: # filter to just the speed before the sign\n",
    "                before.append(row[0]) # note this is indented even more!!\n",
    "            if row[1] == 3: # filter to just the speed after the sign\n",
    "                after.append(row[0]) # note this is indented even more!!\n",
    "\n",
    "len(before), len(after)   # see how much data I got"
   ]
  },
  {
   "cell_type": "code",
   "execution_count": null,
   "metadata": {},
   "outputs": [],
   "source": [
    "print(\"average speed before sign: \", sum(before)/len(before))  # average = sum / N"
   ]
  },
  {
   "cell_type": "code",
   "execution_count": null,
   "metadata": {},
   "outputs": [],
   "source": [
    "# alternatively\n",
    "import numpy as np\n",
    "np.mean([before])"
   ]
  },
  {
   "cell_type": "code",
   "execution_count": null,
   "metadata": {
    "scrolled": true
   },
   "outputs": [],
   "source": [
    "print(\"average speed after sign: \", sum(after)/len(after))  # average = sum / N"
   ]
  },
  {
   "cell_type": "markdown",
   "metadata": {},
   "source": [
    "It appears as if the sign made no difference.\n",
    "\n",
    "In practice, you would want to run a statistical test to see if there was a \n",
    "statistically significant difference between the two sample means"
   ]
  },
  {
   "cell_type": "code",
   "execution_count": null,
   "metadata": {},
   "outputs": [],
   "source": [
    "# rather than repeat this process in one line with pandas!\n",
    "# groupby creates an object that allows you to apply aggregate function(s) (e.g. mean, std\n",
    "# .round rounds to 2 significant digits\n",
    "df.groupby(['pair','warning','period']).agg(['mean','std','count']).round(2)"
   ]
  },
  {
   "cell_type": "code",
   "execution_count": null,
   "metadata": {},
   "outputs": [],
   "source": [
    "df_new = df.groupby(['pair','warning','period']).agg(['mean','std','count']).round(2).reset_index()"
   ]
  },
  {
   "cell_type": "code",
   "execution_count": null,
   "metadata": {},
   "outputs": [],
   "source": [
    "df_new.loc[np.logical_and.reduce( # reduce on a list of logical objects, on a chain\n",
    "                                 [df_new.pair==7, # series of booleans\n",
    "                                 df_new.warning==1, # series of booleans\n",
    "                                 df_new.period.isin([1,2]) # series of boolean\n",
    "                                 ]\n",
    ")]\n",
    "# this syntax is much faster than multiple for/if statements"
   ]
  },
  {
   "cell_type": "code",
   "execution_count": null,
   "metadata": {
    "scrolled": false
   },
   "outputs": [],
   "source": [
    "df['speed'].hist();"
   ]
  }
 ],
 "metadata": {
  "kernelspec": {
   "display_name": "Python 3",
   "language": "python",
   "name": "python3"
  },
  "language_info": {
   "codemirror_mode": {
    "name": "ipython",
    "version": 3
   },
   "file_extension": ".py",
   "mimetype": "text/x-python",
   "name": "python",
   "nbconvert_exporter": "python",
   "pygments_lexer": "ipython3",
   "version": "3.7.4"
  }
 },
 "nbformat": 4,
 "nbformat_minor": 2
}
